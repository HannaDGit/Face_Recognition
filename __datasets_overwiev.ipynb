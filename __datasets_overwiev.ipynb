{
  "nbformat": 4,
  "nbformat_minor": 0,
  "metadata": {
    "colab": {
      "name": "__datasets_overwiev",
      "provenance": [],
      "collapsed_sections": []
    },
    "kernelspec": {
      "name": "python3",
      "display_name": "Python 3"
    }
  },
  "cells": [
    {
      "cell_type": "markdown",
      "metadata": {
        "id": "VrJA4AmNz0XA",
        "colab_type": "text"
      },
      "source": [
        ""
      ]
    },
    {
      "cell_type": "markdown",
      "metadata": {
        "id": "YrcrEhnhz8_D",
        "colab_type": "text"
      },
      "source": [
        "3.3. FACES_DD\n",
        "FACES_DD jest zbiorem prywatnych zdjęć z lat 2003-2009. Zestaw zawiera 925 zdjęć dużej rozdzielczości - średnio 6Mpix, z oznaczonymi 2690 twarzami. 1205 twarzy oznaczone jest inicjałami dla 10 osób jak poniżej:\n",
        "\n",
        "\n",
        "AM': 11,\n",
        "'AS': 6,\n",
        "'BO': 24,\n",
        "'DD': 186,\n",
        "'KWD': 307,\n",
        "'OO': 27,\n",
        "'RO': 22,\n",
        "'TM': 10,\n",
        "'ZBD': 583,\n",
        "'ZD': 29.\n",
        "\n",
        "Pozostałe 1485 oznaczone zostały jako 'Other'.\n",
        "Zdjęcia mogą zawierać od 0 do 84 oznaczonych twarzy.\n",
        "\n",
        "\n",
        "Dla pretrenowanego MTCNN uzyskano AP 94,4%\n",
        "Ze względu na unikalny charakter i zdjęcia dużej rozdzielczości zbiór może być wykorzystany do testów porównawczych modeli.\n",
        "\n",
        "\n",
        "Opis zdjęć zawarty jest w pliku:\n",
        "https://github.com/DarekGit/FACES_DNN/blob/master/data/Faces_DD_metrics.json\n",
        "\n",
        "Plik datasetu dostępny jest na:\n",
        "https://drive.google.com/uc?export=download&id=1XwVm-2EMFdy9Zq39pKFr5UoSJvgTOm-7\n",
        "\n",
        "Przykładowy sposób użycia datasetu zawarty jest w notebooku:\n",
        "https://github.com/DarekGit/FACES_DNN/blob/master/notebooks/03_03_FACES_DD_TEST.ipynb\n",
        "\n",
        "\n",
        "Notebook zawiera analizę zbioru, przykładowe zdjęcia oraz przykład ekstrakcji obrazów twarzy do struktury ImageFolder.\n",
        "\n",
        "Przykład opisu zdjęcia:"
      ]
    },
    {
      "cell_type": "markdown",
      "metadata": {
        "id": "Q49u-vQ_09zg",
        "colab_type": "text"
      },
      "source": [
        ""
      ]
    },
    {
      "cell_type": "code",
      "metadata": {
        "id": "s1dCLFob08Wy",
        "colab_type": "code",
        "colab": {}
      },
      "source": [
        ""
      ],
      "execution_count": null,
      "outputs": []
    }
  ]
}